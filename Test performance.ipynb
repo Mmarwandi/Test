{
 "cells": [
  {
   "cell_type": "markdown",
   "metadata": {},
   "source": [
    "JupyterLab files folder /opt/app/data"
   ]
  },
  {
   "cell_type": "code",
   "execution_count": 1,
   "metadata": {},
   "outputs": [
    {
     "name": "stdout",
     "output_type": "stream",
     "text": [
      "Hello world!!!\n"
     ]
    }
   ],
   "source": [
    "print('Hello world!!!')"
   ]
  },
  {
   "cell_type": "code",
   "execution_count": null,
   "metadata": {},
   "outputs": [],
   "source": [
    "import time\n",
    "start_time = time.time()\n",
    "\n",
    "i=0\n",
    "for i in range(10*10000000):\n",
    "    i+=1\n",
    "\n",
    "print(i)\n",
    "\n",
    "print(\"--- %s seconds ---\" % (time.time() - start_time))"
   ]
  },
  {
   "cell_type": "code",
   "execution_count": null,
   "metadata": {},
   "outputs": [],
   "source": [
    "import timeit\n",
    "timeit.timeit('for i in range(10*1000): i+=1', number=10000)\n",
    "#print(i)"
   ]
  },
  {
   "cell_type": "code",
   "execution_count": 2,
   "metadata": {},
   "outputs": [
    {
     "name": "stdout",
     "output_type": "stream",
     "text": [
      "/bin/sh: 1: nb_conda: not found\n"
     ]
    }
   ],
   "source": [
    "!nb_conda list"
   ]
  },
  {
   "cell_type": "code",
   "execution_count": 3,
   "metadata": {},
   "outputs": [
    {
     "name": "stdout",
     "output_type": "stream",
     "text": [
      "/bin/sh: 1: conda: not found\n"
     ]
    }
   ],
   "source": [
    "!conda list"
   ]
  },
  {
   "cell_type": "code",
   "execution_count": 1,
   "metadata": {},
   "outputs": [
    {
     "name": "stdout",
     "output_type": "stream",
     "text": [
      "Collecting sklearn\n",
      "Collecting scikit-learn (from sklearn)\n",
      "  Using cached https://files.pythonhosted.org/packages/a0/c5/d2238762d780dde84a20b8c761f563fe882b88c5a5fb03c056547c442a19/scikit_learn-0.21.3-cp36-cp36m-manylinux1_x86_64.whl\n",
      "Collecting joblib>=0.11 (from scikit-learn->sklearn)\n",
      "  Using cached https://files.pythonhosted.org/packages/cd/c1/50a758e8247561e58cb87305b1e90b171b8c767b15b12a1734001f41d356/joblib-0.13.2-py2.py3-none-any.whl\n",
      "Collecting scipy>=0.17.0 (from scikit-learn->sklearn)\n",
      "  Using cached https://files.pythonhosted.org/packages/29/50/a552a5aff252ae915f522e44642bb49a7b7b31677f9580cfd11bcc869976/scipy-1.3.1-cp36-cp36m-manylinux1_x86_64.whl\n",
      "Collecting numpy>=1.11.0 (from scikit-learn->sklearn)\n",
      "  Using cached https://files.pythonhosted.org/packages/e5/e6/c3fdc53aed9fa19d6ff3abf97dfad768ae3afce1b7431f7500000816bda5/numpy-1.17.2-cp36-cp36m-manylinux1_x86_64.whl\n",
      "Installing collected packages: joblib, numpy, scipy, scikit-learn, sklearn\n",
      "Successfully installed joblib-0.13.2 numpy-1.17.2 scikit-learn-0.21.3 scipy-1.3.1 sklearn-0.0\n"
     ]
    }
   ],
   "source": [
    "!pip3 install sklearn"
   ]
  },
  {
   "cell_type": "code",
   "execution_count": 1,
   "metadata": {},
   "outputs": [
    {
     "name": "stdout",
     "output_type": "stream",
     "text": [
      "asn1crypto==0.24.0\n",
      "astroid==2.2.5\n",
      "astropy==3.2.1\n",
      "atomicwrites==1.3.0\n",
      "attrs==19.1.0\n",
      "Automat==0.7.0\n",
      "backcall==0.1.0\n",
      "beautifulsoup4==4.8.0\n",
      "bleach==3.1.0\n",
      "blinker==1.4\n",
      "bokeh==1.3.0\n",
      "brewer2mpl==1.4.1\n",
      "certifi==2018.1.18\n",
      "cffi==1.12.3\n",
      "chardet==3.0.4\n",
      "click==6.7\n",
      "cloud-init==18.4\n",
      "colorama==0.3.7\n",
      "command-not-found==0.3\n",
      "configobj==5.0.6\n",
      "confuse==1.0.0\n",
      "constantly==15.1.0\n",
      "cryptography==2.7\n",
      "cssselect==1.0.3\n",
      "cycler==0.10.0\n",
      "decorator==4.4.0\n",
      "defusedxml==0.6.0\n",
      "distro-info===0.18ubuntu0.18.04.1\n",
      "entrypoints==0.3\n",
      "ggplot==0.11.5\n",
      "html5lib==0.999999999\n",
      "htmlmin==0.1.12\n",
      "httplib2==0.9.2\n",
      "hyperlink==19.0.0\n",
      "idna==2.8\n",
      "importlib-metadata==0.18\n",
      "incremental==17.5.0\n",
      "ipykernel==5.1.1\n",
      "ipython==7.7.0\n",
      "ipython-genutils==0.2.0\n",
      "-e git+https://github.com/gkvoelkl/ipython-turtle-widget.git@3d8f523db809419d5761f0d3d6e7528f56797ca7#egg=ipyturtle\n",
      "ipywidgets==7.5.1\n",
      "isort==4.3.21\n",
      "jedi==0.14.1\n",
      "Jinja2==2.10.1\n",
      "joblib==0.13.2\n",
      "json5==0.8.5\n",
      "jsonpatch==1.16\n",
      "jsonpointer==1.10\n",
      "jsonschema==3.0.2\n",
      "jupyter-client==5.3.1\n",
      "jupyter-console==5.2.0\n",
      "jupyter-contrib-core==0.3.3\n",
      "jupyter-core==4.5.0\n",
      "jupyter-highlight-selected-word==0.2.0\n",
      "jupyter-nbextensions-configurator==0.4.1\n",
      "jupyterlab==1.0.4\n",
      "jupyterlab-server==1.0.0\n",
      "keyring==10.6.0\n",
      "keyrings.alt==3.0\n",
      "kiwisolver==1.1.0\n",
      "language-selector==0.1\n",
      "lazy-object-proxy==1.4.1\n",
      "llvmlite==0.29.0\n",
      "lxml==4.4.0\n",
      "MarkupSafe==1.1.1\n",
      "matplotlib==3.1.1\n",
      "mccabe==0.6.1\n",
      "missingno==0.4.2\n",
      "mistune==0.8.4\n",
      "more-itertools==7.2.0\n",
      "nbconvert==5.5.0\n",
      "nbformat==4.4.0\n",
      "nbresuse==0.3.2\n",
      "netifaces==0.10.4\n",
      "nltk==3.4.4\n",
      "notebook==6.0.0\n",
      "numba==0.45.0\n",
      "numpy==1.17.2\n",
      "oauthlib==2.0.6\n",
      "packaging==19.0\n",
      "PAM==0.4.2\n",
      "pandas==0.25.0\n",
      "pandas-profiling==2.3.0\n",
      "pandasql==0.7.3\n",
      "pandocfilters==1.4.2\n",
      "parsel==1.5.1\n",
      "parso==0.5.1\n",
      "pathlib==1.0.1\n",
      "patsy==0.5.1\n",
      "pexpect==4.7.0\n",
      "phik==0.9.8\n",
      "pickleshare==0.7.5\n",
      "Pillow==6.1.0\n",
      "plotly==4.0.0\n",
      "pluggy==0.12.0\n",
      "prometheus-client==0.7.1\n",
      "prompt-toolkit==2.0.9\n",
      "psutil==5.6.3\n",
      "ptyprocess==0.6.0\n",
      "py==1.8.0\n",
      "pyasn1==0.4.5\n",
      "pyasn1-modules==0.2.5\n",
      "pycparser==2.19\n",
      "pycrypto==2.6.1\n",
      "PyDispatcher==2.0.5\n",
      "Pygments==2.4.2\n",
      "pygobject==3.26.1\n",
      "PyHamcrest==1.9.0\n",
      "PyJWT==1.5.3\n",
      "pylint==2.3.1\n",
      "pyOpenSSL==19.0.0\n",
      "pyparsing==2.4.2\n",
      "pyrsistent==0.15.4\n",
      "pyserial==3.4\n",
      "pytest==5.0.1\n",
      "pytest-pylint==0.14.1\n",
      "python-apt==1.6.3+ubuntu1\n",
      "python-dateutil==2.8.0\n",
      "python-debian==0.1.32\n",
      "pytz==2019.2\n",
      "pyxdg==0.25\n",
      "PyYAML==5.1.2\n",
      "pyzmq==18.0.2\n",
      "queuelib==1.5.0\n",
      "requests==2.18.4\n",
      "requests-unixsocket==0.1.5\n",
      "retrying==1.3.3\n",
      "scikit-learn==0.21.3\n",
      "scipy==1.3.1\n",
      "Scrapy==1.7.2\n",
      "seaborn==0.9.0\n",
      "SecretStorage==2.3.1\n",
      "Send2Trash==1.5.0\n",
      "service-identity==18.1.0\n",
      "simplegeneric==0.8.1\n",
      "six==1.12.0\n",
      "sklearn==0.0\n",
      "soupsieve==1.9.2\n",
      "SQLAlchemy==1.3.6\n",
      "ssh-import-id==5.7\n",
      "statsmodels==0.10.1\n",
      "systemd-python==234\n",
      "terminado==0.8.2\n",
      "testpath==0.4.2\n",
      "tornado==6.0.3\n",
      "traitlets==4.3.2\n",
      "Twisted==19.2.1\n",
      "typed-ast==1.4.0\n",
      "ufw==0.35\n",
      "unattended-upgrades==0.1\n",
      "urllib3==1.22\n",
      "w3lib==1.20.0\n",
      "wcwidth==0.1.7\n",
      "webencodings==0.5.1\n",
      "widgetsnbextension==3.5.1\n",
      "wrapt==1.11.2\n",
      "zipp==0.5.2\n",
      "zope.interface==4.6.0\n"
     ]
    }
   ],
   "source": [
    "!pip3 freeze"
   ]
  },
  {
   "cell_type": "code",
   "execution_count": null,
   "metadata": {},
   "outputs": [],
   "source": []
  }
 ],
 "metadata": {
  "kernelspec": {
   "display_name": "Python 3",
   "language": "python",
   "name": "python3"
  },
  "language_info": {
   "codemirror_mode": {
    "name": "ipython",
    "version": 3
   },
   "file_extension": ".py",
   "mimetype": "text/x-python",
   "name": "python",
   "nbconvert_exporter": "python",
   "pygments_lexer": "ipython3",
   "version": "3.6.8"
  }
 },
 "nbformat": 4,
 "nbformat_minor": 4
}
